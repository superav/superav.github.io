{
 "cells": [
  {
   "cell_type": "code",
   "execution_count": 1,
   "metadata": {},
   "outputs": [],
   "source": [
    "import quandl\n",
    "import pandas as pd\n",
    "import datetime\n",
    "import matplotlib.pyplot as plt\n",
    "import numpy as np\n",
    "from sklearn import linear_model\n",
    "%matplotlib inline"
   ]
  },
  {
   "cell_type": "markdown",
   "metadata": {},
   "source": [
    "<h1><center>Gold Prices: Driven by Inflation, Volatility, or Treasury Yields?</center></h1>\n",
    "<h2><center>By: Aviral Agarwal</center></h2>\n"
   ]
  },
  {
   "cell_type": "markdown",
   "metadata": {},
   "source": [
    "<h2><center>Introduction</center></h2>\n",
    "Gold is one of the most hotly traded commodities in world. There are three main theories around what controls gold prices. As an asset that does not provide a yield, it is assumed to grow in value when the return on assets that do provide yields decreases. The first theory claims that yields do not directly have an impact on gold prices, instead inflation is what leads to the direct impact on gold price which is indirectly reflected in yields. The second group believes that real yields (real means adjusted for inflation) tend to be what controls gold prices. Recently, there has been a rise of an entirely different third theory on gold prices. When there is an increase in uncertainty or volatility in the global political and economic climate, that leads to an increase in gold prices, as gold has acted as a store of value for thousands of years.\n",
    "\n",
    "In this tutorial, we attempt to explore the impact of inflation, volatility, and treasury yields on gold prices. We hope to determine which of the above theories has the most historical backing.\n"
   ]
  },
  {
   "cell_type": "markdown",
   "metadata": {},
   "source": [
    "<h2><center>Data Gathering</center></h2>\n",
    "We need to gather historical data on gold prices, inflation, volatility, and treasury yields."
   ]
  },
  {
   "cell_type": "markdown",
   "metadata": {},
   "source": [
    "Gold Prices can be best found through historical data on the futures contracts that are used to trade mass amounts of gold in the open market. Historical data can be found in the Wiki Continuous Futures database from NASDAQ’s data repository platform, Quandl, at https://www.quandl.com/data/CHRIS-Wiki-Continuous-Futures. The following code will allow us to gather daily prices on the gold continuous contract in the front from December 31st, 1974 to December 18th, 2020. Gold futures contracts tend to have a set date on which they expire on which a transaction for gold purchases will take place. As this data tracks the continuous contract in front, it will automatically provide data on the contract closest to expiry that has not yet expired. "
   ]
  },
  {
   "cell_type": "code",
   "execution_count": 2,
   "metadata": {},
   "outputs": [
    {
     "data": {
      "text/html": [
       "<div>\n",
       "<style scoped>\n",
       "    .dataframe tbody tr th:only-of-type {\n",
       "        vertical-align: middle;\n",
       "    }\n",
       "\n",
       "    .dataframe tbody tr th {\n",
       "        vertical-align: top;\n",
       "    }\n",
       "\n",
       "    .dataframe thead th {\n",
       "        text-align: right;\n",
       "    }\n",
       "</style>\n",
       "<table border=\"1\" class=\"dataframe\">\n",
       "  <thead>\n",
       "    <tr style=\"text-align: right;\">\n",
       "      <th></th>\n",
       "      <th>Open</th>\n",
       "      <th>High</th>\n",
       "      <th>Low</th>\n",
       "      <th>Last</th>\n",
       "      <th>Change</th>\n",
       "      <th>Settle</th>\n",
       "      <th>Volume</th>\n",
       "      <th>Previous Day Open Interest</th>\n",
       "    </tr>\n",
       "    <tr>\n",
       "      <th>Date</th>\n",
       "      <th></th>\n",
       "      <th></th>\n",
       "      <th></th>\n",
       "      <th></th>\n",
       "      <th></th>\n",
       "      <th></th>\n",
       "      <th></th>\n",
       "      <th></th>\n",
       "    </tr>\n",
       "  </thead>\n",
       "  <tbody>\n",
       "    <tr>\n",
       "      <th>1974-12-31</th>\n",
       "      <td>191.0</td>\n",
       "      <td>191.5</td>\n",
       "      <td>182.7</td>\n",
       "      <td>183.9</td>\n",
       "      <td>NaN</td>\n",
       "      <td>183.9</td>\n",
       "      <td>512.0</td>\n",
       "      <td>237.0</td>\n",
       "    </tr>\n",
       "    <tr>\n",
       "      <th>1975-01-02</th>\n",
       "      <td>184.0</td>\n",
       "      <td>184.8</td>\n",
       "      <td>173.9</td>\n",
       "      <td>175.1</td>\n",
       "      <td>NaN</td>\n",
       "      <td>175.1</td>\n",
       "      <td>294.0</td>\n",
       "      <td>209.0</td>\n",
       "    </tr>\n",
       "    <tr>\n",
       "      <th>1975-01-03</th>\n",
       "      <td>173.0</td>\n",
       "      <td>175.5</td>\n",
       "      <td>170.5</td>\n",
       "      <td>174.7</td>\n",
       "      <td>NaN</td>\n",
       "      <td>174.7</td>\n",
       "      <td>174.0</td>\n",
       "      <td>216.0</td>\n",
       "    </tr>\n",
       "    <tr>\n",
       "      <th>1975-01-06</th>\n",
       "      <td>172.0</td>\n",
       "      <td>174.5</td>\n",
       "      <td>167.5</td>\n",
       "      <td>174.4</td>\n",
       "      <td>NaN</td>\n",
       "      <td>174.4</td>\n",
       "      <td>197.0</td>\n",
       "      <td>225.0</td>\n",
       "    </tr>\n",
       "    <tr>\n",
       "      <th>1975-01-07</th>\n",
       "      <td>171.0</td>\n",
       "      <td>174.0</td>\n",
       "      <td>168.5</td>\n",
       "      <td>173.4</td>\n",
       "      <td>NaN</td>\n",
       "      <td>173.4</td>\n",
       "      <td>98.0</td>\n",
       "      <td>240.0</td>\n",
       "    </tr>\n",
       "  </tbody>\n",
       "</table>\n",
       "</div>"
      ],
      "text/plain": [
       "             Open   High    Low   Last  Change  Settle  Volume  \\\n",
       "Date                                                             \n",
       "1974-12-31  191.0  191.5  182.7  183.9     NaN   183.9   512.0   \n",
       "1975-01-02  184.0  184.8  173.9  175.1     NaN   175.1   294.0   \n",
       "1975-01-03  173.0  175.5  170.5  174.7     NaN   174.7   174.0   \n",
       "1975-01-06  172.0  174.5  167.5  174.4     NaN   174.4   197.0   \n",
       "1975-01-07  171.0  174.0  168.5  173.4     NaN   173.4    98.0   \n",
       "\n",
       "            Previous Day Open Interest  \n",
       "Date                                    \n",
       "1974-12-31                       237.0  \n",
       "1975-01-02                       209.0  \n",
       "1975-01-03                       216.0  \n",
       "1975-01-06                       225.0  \n",
       "1975-01-07                       240.0  "
      ]
     },
     "execution_count": 2,
     "metadata": {},
     "output_type": "execute_result"
    }
   ],
   "source": [
    "# set api key for quandl and get gold price data\n",
    "quandl.ApiConfig.api_key = \"SjL4KUocN14L9PemEa24\"\n",
    "goldData = quandl.get('CHRIS/CME_GC1')\n",
    "goldData.head()"
   ]
  },
  {
   "cell_type": "markdown",
   "metadata": {},
   "source": [
    "This data contains 9 columns which are:\n",
    "\n",
    "Date: Date for the current datapoint <br>\n",
    "Open: Opening price of the contract for that day <br>\n",
    "High: The highest price of contracts traded that day <br>\n",
    "Low: The lowest price of contracts traded that day <br>\n",
    "Last: The price of the last contract traded that day <br>\n",
    "Change: The dollar change in contract price from the previous day <br>\n",
    "Settle: The closing price of the contract for that day <br>\n",
    "Volume: The number of contracts that were traded that day <br>\n",
    "Previous Day Open Interest: The number of outstanding contracts that have yet to have their transaction completed\n"
   ]
  },
  {
   "cell_type": "markdown",
   "metadata": {},
   "source": [
    "We can gather data on inflation by using monthly values of the Consumer Price Index (CPI), a well-known index used to track inflation. This can be found by downloading and then importing a CSV from the economic data provided by the Federal Reserve Bank of St. Louis at https://fred.stlouisfed.org/series/CPIAUCSL. The data provided is from January 1947 to November 2020."
   ]
  },
  {
   "cell_type": "code",
   "execution_count": 3,
   "metadata": {},
   "outputs": [
    {
     "data": {
      "text/html": [
       "<div>\n",
       "<style scoped>\n",
       "    .dataframe tbody tr th:only-of-type {\n",
       "        vertical-align: middle;\n",
       "    }\n",
       "\n",
       "    .dataframe tbody tr th {\n",
       "        vertical-align: top;\n",
       "    }\n",
       "\n",
       "    .dataframe thead th {\n",
       "        text-align: right;\n",
       "    }\n",
       "</style>\n",
       "<table border=\"1\" class=\"dataframe\">\n",
       "  <thead>\n",
       "    <tr style=\"text-align: right;\">\n",
       "      <th></th>\n",
       "      <th>DATE</th>\n",
       "      <th>CPIAUCSL</th>\n",
       "    </tr>\n",
       "  </thead>\n",
       "  <tbody>\n",
       "    <tr>\n",
       "      <th>0</th>\n",
       "      <td>1947-01-01</td>\n",
       "      <td>21.48</td>\n",
       "    </tr>\n",
       "    <tr>\n",
       "      <th>1</th>\n",
       "      <td>1947-02-01</td>\n",
       "      <td>21.62</td>\n",
       "    </tr>\n",
       "    <tr>\n",
       "      <th>2</th>\n",
       "      <td>1947-03-01</td>\n",
       "      <td>22.00</td>\n",
       "    </tr>\n",
       "    <tr>\n",
       "      <th>3</th>\n",
       "      <td>1947-04-01</td>\n",
       "      <td>22.00</td>\n",
       "    </tr>\n",
       "    <tr>\n",
       "      <th>4</th>\n",
       "      <td>1947-05-01</td>\n",
       "      <td>21.95</td>\n",
       "    </tr>\n",
       "  </tbody>\n",
       "</table>\n",
       "</div>"
      ],
      "text/plain": [
       "         DATE  CPIAUCSL\n",
       "0  1947-01-01     21.48\n",
       "1  1947-02-01     21.62\n",
       "2  1947-03-01     22.00\n",
       "3  1947-04-01     22.00\n",
       "4  1947-05-01     21.95"
      ]
     },
     "execution_count": 3,
     "metadata": {},
     "output_type": "execute_result"
    }
   ],
   "source": [
    "# read inflation data from csv\n",
    "inflationData = pd.read_csv(\"CPIAUCSL.csv\")\n",
    "inflationData.head()"
   ]
  },
  {
   "cell_type": "markdown",
   "metadata": {},
   "source": [
    "This data contains two columns:\n",
    "\n",
    "Date: Date for the current datapoint <br>\n",
    "CPIAUCSL: Cost of a basket of consumer goods in a specific month that costed 21.48 in January 1947\n"
   ]
  },
  {
   "cell_type": "markdown",
   "metadata": {},
   "source": [
    "We can gather data on volatility using the Chicago Board Options Exchange's CBOE Volatility Index (VIX). This is a very popular index that tracks the stock market's expectation of volatility based on the options of stocks included in the S&P 500 index. Daily data from January 1st, 1990 to Dec 18th, 2020 on this can be found by downloading historical data from Yahoo Finance’s website at https://finance.yahoo.com/quote/%5EVIX/history?p=%5EVIX"
   ]
  },
  {
   "cell_type": "code",
   "execution_count": 4,
   "metadata": {},
   "outputs": [
    {
     "data": {
      "text/html": [
       "<div>\n",
       "<style scoped>\n",
       "    .dataframe tbody tr th:only-of-type {\n",
       "        vertical-align: middle;\n",
       "    }\n",
       "\n",
       "    .dataframe tbody tr th {\n",
       "        vertical-align: top;\n",
       "    }\n",
       "\n",
       "    .dataframe thead th {\n",
       "        text-align: right;\n",
       "    }\n",
       "</style>\n",
       "<table border=\"1\" class=\"dataframe\">\n",
       "  <thead>\n",
       "    <tr style=\"text-align: right;\">\n",
       "      <th></th>\n",
       "      <th>Date</th>\n",
       "      <th>Open</th>\n",
       "      <th>High</th>\n",
       "      <th>Low</th>\n",
       "      <th>Close</th>\n",
       "      <th>Adj Close</th>\n",
       "      <th>Volume</th>\n",
       "    </tr>\n",
       "  </thead>\n",
       "  <tbody>\n",
       "    <tr>\n",
       "      <th>0</th>\n",
       "      <td>1990-01-02</td>\n",
       "      <td>17.240000</td>\n",
       "      <td>17.240000</td>\n",
       "      <td>17.240000</td>\n",
       "      <td>17.240000</td>\n",
       "      <td>17.240000</td>\n",
       "      <td>0</td>\n",
       "    </tr>\n",
       "    <tr>\n",
       "      <th>1</th>\n",
       "      <td>1990-01-03</td>\n",
       "      <td>18.190001</td>\n",
       "      <td>18.190001</td>\n",
       "      <td>18.190001</td>\n",
       "      <td>18.190001</td>\n",
       "      <td>18.190001</td>\n",
       "      <td>0</td>\n",
       "    </tr>\n",
       "    <tr>\n",
       "      <th>2</th>\n",
       "      <td>1990-01-04</td>\n",
       "      <td>19.219999</td>\n",
       "      <td>19.219999</td>\n",
       "      <td>19.219999</td>\n",
       "      <td>19.219999</td>\n",
       "      <td>19.219999</td>\n",
       "      <td>0</td>\n",
       "    </tr>\n",
       "    <tr>\n",
       "      <th>3</th>\n",
       "      <td>1990-01-05</td>\n",
       "      <td>20.110001</td>\n",
       "      <td>20.110001</td>\n",
       "      <td>20.110001</td>\n",
       "      <td>20.110001</td>\n",
       "      <td>20.110001</td>\n",
       "      <td>0</td>\n",
       "    </tr>\n",
       "    <tr>\n",
       "      <th>4</th>\n",
       "      <td>1990-01-08</td>\n",
       "      <td>20.260000</td>\n",
       "      <td>20.260000</td>\n",
       "      <td>20.260000</td>\n",
       "      <td>20.260000</td>\n",
       "      <td>20.260000</td>\n",
       "      <td>0</td>\n",
       "    </tr>\n",
       "  </tbody>\n",
       "</table>\n",
       "</div>"
      ],
      "text/plain": [
       "         Date       Open       High        Low      Close  Adj Close  Volume\n",
       "0  1990-01-02  17.240000  17.240000  17.240000  17.240000  17.240000       0\n",
       "1  1990-01-03  18.190001  18.190001  18.190001  18.190001  18.190001       0\n",
       "2  1990-01-04  19.219999  19.219999  19.219999  19.219999  19.219999       0\n",
       "3  1990-01-05  20.110001  20.110001  20.110001  20.110001  20.110001       0\n",
       "4  1990-01-08  20.260000  20.260000  20.260000  20.260000  20.260000       0"
      ]
     },
     "execution_count": 4,
     "metadata": {},
     "output_type": "execute_result"
    }
   ],
   "source": [
    "# read volatility data from csv\n",
    "volatilityData = pd.read_csv(\"^VIX.csv\")\n",
    "volatilityData.head()"
   ]
  },
  {
   "cell_type": "markdown",
   "metadata": {},
   "source": [
    "This data contains seven columns:\n",
    "    \n",
    "Date: Date for the current datapoint <br>\n",
    "Open: Opening value of the VIX index on that specific day <br>\n",
    "High: Highest value of the VIX index on that specific day <br>\n",
    "Low: Lowest value of the VIX index on that specific day <br>\n",
    "Close: Closing value of the VIX index on that specific day <br>\n",
    "Adj Close: Adjusted closing value of the VIX index on that specific day based on stock splits and dividends <br>\n",
    "Volume: the number of transactions that took place of the VIX index (0 everyday as an index is not tradable)\n"
   ]
  },
  {
   "cell_type": "markdown",
   "metadata": {},
   "source": [
    "We can also gather daily data on the Yield of the 10 Year Treasury Bond from January 1st, 1962 to December 18th, 2020 from Yahoo Finance at https://finance.yahoo.com/quote/%5ETNX/history?p=%5ETNX"
   ]
  },
  {
   "cell_type": "code",
   "execution_count": 5,
   "metadata": {},
   "outputs": [
    {
     "data": {
      "text/html": [
       "<div>\n",
       "<style scoped>\n",
       "    .dataframe tbody tr th:only-of-type {\n",
       "        vertical-align: middle;\n",
       "    }\n",
       "\n",
       "    .dataframe tbody tr th {\n",
       "        vertical-align: top;\n",
       "    }\n",
       "\n",
       "    .dataframe thead th {\n",
       "        text-align: right;\n",
       "    }\n",
       "</style>\n",
       "<table border=\"1\" class=\"dataframe\">\n",
       "  <thead>\n",
       "    <tr style=\"text-align: right;\">\n",
       "      <th></th>\n",
       "      <th>Date</th>\n",
       "      <th>Open</th>\n",
       "      <th>High</th>\n",
       "      <th>Low</th>\n",
       "      <th>Close</th>\n",
       "      <th>Adj Close</th>\n",
       "      <th>Volume</th>\n",
       "    </tr>\n",
       "  </thead>\n",
       "  <tbody>\n",
       "    <tr>\n",
       "      <th>0</th>\n",
       "      <td>1962-01-02</td>\n",
       "      <td>4.06</td>\n",
       "      <td>4.06</td>\n",
       "      <td>4.06</td>\n",
       "      <td>4.06</td>\n",
       "      <td>4.06</td>\n",
       "      <td>0.0</td>\n",
       "    </tr>\n",
       "    <tr>\n",
       "      <th>1</th>\n",
       "      <td>1962-01-03</td>\n",
       "      <td>4.03</td>\n",
       "      <td>4.03</td>\n",
       "      <td>4.03</td>\n",
       "      <td>4.03</td>\n",
       "      <td>4.03</td>\n",
       "      <td>0.0</td>\n",
       "    </tr>\n",
       "    <tr>\n",
       "      <th>2</th>\n",
       "      <td>1962-01-04</td>\n",
       "      <td>3.99</td>\n",
       "      <td>3.99</td>\n",
       "      <td>3.99</td>\n",
       "      <td>3.99</td>\n",
       "      <td>3.99</td>\n",
       "      <td>0.0</td>\n",
       "    </tr>\n",
       "    <tr>\n",
       "      <th>3</th>\n",
       "      <td>1962-01-05</td>\n",
       "      <td>4.02</td>\n",
       "      <td>4.02</td>\n",
       "      <td>4.02</td>\n",
       "      <td>4.02</td>\n",
       "      <td>4.02</td>\n",
       "      <td>0.0</td>\n",
       "    </tr>\n",
       "    <tr>\n",
       "      <th>4</th>\n",
       "      <td>1962-01-07</td>\n",
       "      <td>NaN</td>\n",
       "      <td>NaN</td>\n",
       "      <td>NaN</td>\n",
       "      <td>NaN</td>\n",
       "      <td>NaN</td>\n",
       "      <td>NaN</td>\n",
       "    </tr>\n",
       "  </tbody>\n",
       "</table>\n",
       "</div>"
      ],
      "text/plain": [
       "         Date  Open  High   Low  Close  Adj Close  Volume\n",
       "0  1962-01-02  4.06  4.06  4.06   4.06       4.06     0.0\n",
       "1  1962-01-03  4.03  4.03  4.03   4.03       4.03     0.0\n",
       "2  1962-01-04  3.99  3.99  3.99   3.99       3.99     0.0\n",
       "3  1962-01-05  4.02  4.02  4.02   4.02       4.02     0.0\n",
       "4  1962-01-07   NaN   NaN   NaN    NaN        NaN     NaN"
      ]
     },
     "execution_count": 5,
     "metadata": {},
     "output_type": "execute_result"
    }
   ],
   "source": [
    "# read bond yield data from csv\n",
    "bondYieldData = pd.read_csv(\"^TNX.csv\")\n",
    "bondYieldData.head()"
   ]
  },
  {
   "cell_type": "markdown",
   "metadata": {},
   "source": [
    "This data contains seven columns:  <br>\n",
    "Date: Date for the current datapoint <br>\n",
    "Open: Opening Treasury Yield on that specific day <br>\n",
    "High: Highest Treasury Yield on that specific day <br>\n",
    "Low: Lowest Treasury Yield on that specific day <br>\n",
    "Close: Closing Treasury Yield on that specific day <br>\n",
    "Adj Close: Adjusted Treasury Yield on that specific day <br>\n",
    "Volume: the number of transactions that took place of the Treasury Yield (0 everyday as an yield is simply a number, the bond itself is what is traded)\n"
   ]
  },
  {
   "cell_type": "markdown",
   "metadata": {},
   "source": [
    "<h2><center>Data Cleaning</center></h2>\n",
    "Now we would like to clean up our data"
   ]
  },
  {
   "cell_type": "markdown",
   "metadata": {},
   "source": [
    "For the inflation data, we are interested in the percent inflation rather than the values of the basket of goods so we should calculate the monthly inflation and the yearly inflation and add that to the data. Also we should convert Date from strings to datetime objects."
   ]
  },
  {
   "cell_type": "code",
   "execution_count": 6,
   "metadata": {},
   "outputs": [
    {
     "data": {
      "text/html": [
       "<div>\n",
       "<style scoped>\n",
       "    .dataframe tbody tr th:only-of-type {\n",
       "        vertical-align: middle;\n",
       "    }\n",
       "\n",
       "    .dataframe tbody tr th {\n",
       "        vertical-align: top;\n",
       "    }\n",
       "\n",
       "    .dataframe thead th {\n",
       "        text-align: right;\n",
       "    }\n",
       "</style>\n",
       "<table border=\"1\" class=\"dataframe\">\n",
       "  <thead>\n",
       "    <tr style=\"text-align: right;\">\n",
       "      <th></th>\n",
       "      <th>DATE</th>\n",
       "      <th>CPIAUCSL</th>\n",
       "      <th>monthlyInflation</th>\n",
       "      <th>yearlyInflation</th>\n",
       "    </tr>\n",
       "  </thead>\n",
       "  <tbody>\n",
       "    <tr>\n",
       "      <th>0</th>\n",
       "      <td>1947-01-01 00:00:00</td>\n",
       "      <td>21.48</td>\n",
       "      <td>0.000000</td>\n",
       "      <td>0.0</td>\n",
       "    </tr>\n",
       "    <tr>\n",
       "      <th>1</th>\n",
       "      <td>1947-02-01 00:00:00</td>\n",
       "      <td>21.62</td>\n",
       "      <td>0.651769</td>\n",
       "      <td>0.0</td>\n",
       "    </tr>\n",
       "    <tr>\n",
       "      <th>2</th>\n",
       "      <td>1947-03-01 00:00:00</td>\n",
       "      <td>22.00</td>\n",
       "      <td>1.757632</td>\n",
       "      <td>0.0</td>\n",
       "    </tr>\n",
       "    <tr>\n",
       "      <th>3</th>\n",
       "      <td>1947-04-01 00:00:00</td>\n",
       "      <td>22.00</td>\n",
       "      <td>0.000000</td>\n",
       "      <td>0.0</td>\n",
       "    </tr>\n",
       "    <tr>\n",
       "      <th>4</th>\n",
       "      <td>1947-05-01 00:00:00</td>\n",
       "      <td>21.95</td>\n",
       "      <td>-0.227273</td>\n",
       "      <td>0.0</td>\n",
       "    </tr>\n",
       "  </tbody>\n",
       "</table>\n",
       "</div>"
      ],
      "text/plain": [
       "                  DATE  CPIAUCSL  monthlyInflation  yearlyInflation\n",
       "0  1947-01-01 00:00:00     21.48          0.000000              0.0\n",
       "1  1947-02-01 00:00:00     21.62          0.651769              0.0\n",
       "2  1947-03-01 00:00:00     22.00          1.757632              0.0\n",
       "3  1947-04-01 00:00:00     22.00          0.000000              0.0\n",
       "4  1947-05-01 00:00:00     21.95         -0.227273              0.0"
      ]
     },
     "execution_count": 6,
     "metadata": {},
     "output_type": "execute_result"
    }
   ],
   "source": [
    "#Lists to store caluclated inflation values\n",
    "monthlyInflation = []\n",
    "yearlyInflation = []\n",
    "\n",
    "for index, row in inflationData.iterrows():\n",
    "    #Covert inflation dates to datetime objects\n",
    "    inflationData.at[index, \"DATE\"] = datetime.datetime.strptime(row[\"DATE\"], \"%Y-%m-%d\")\n",
    "    \n",
    "    #if it is the first month then there is no previous data so inflation is 0\n",
    "    if(index == 0):\n",
    "        monthlyInflation.append(0)\n",
    "    else:\n",
    "        #calculate and store inflation from the previous month\n",
    "        previousMonth = inflationData.iloc[index - 1].CPIAUCSL\n",
    "        currentMonth = inflationData.iloc[index].CPIAUCSL\n",
    "        inflation = ((currentMonth - previousMonth) / inflationData.iloc[index - 1].CPIAUCSL)*100\n",
    "        monthlyInflation.append(inflation)\n",
    "        \n",
    "    #if it is the first year then there is no previous data so inflation is 0    \n",
    "    if(index < 12):\n",
    "        yearlyInflation.append(0)\n",
    "    else:\n",
    "        # calculate and store inflation from the previous year\n",
    "        previousYear = inflationData.iloc[index - 12].CPIAUCSL\n",
    "        currentYear = inflationData.iloc[index].CPIAUCSL\n",
    "        inflation = ((currentYear - previousYear) / inflationData.iloc[index - 12].CPIAUCSL)*100\n",
    "        yearlyInflation.append(inflation)\n",
    "        \n",
    "#add calculted inflation values to the table \n",
    "inflationData[\"monthlyInflation\"] = monthlyInflation\n",
    "inflationData[\"yearlyInflation\"] = yearlyInflation\n",
    "\n",
    "inflationData.head()"
   ]
  },
  {
   "cell_type": "markdown",
   "metadata": {},
   "source": [
    "Let us drop change, settle, volume, and previous day open interest columns from the gold price table as we will not need them. Then lets change the prices in the table so that they are inflation adjusted."
   ]
  },
  {
   "cell_type": "code",
   "execution_count": 7,
   "metadata": {},
   "outputs": [
    {
     "data": {
      "text/html": [
       "<div>\n",
       "<style scoped>\n",
       "    .dataframe tbody tr th:only-of-type {\n",
       "        vertical-align: middle;\n",
       "    }\n",
       "\n",
       "    .dataframe tbody tr th {\n",
       "        vertical-align: top;\n",
       "    }\n",
       "\n",
       "    .dataframe thead th {\n",
       "        text-align: right;\n",
       "    }\n",
       "</style>\n",
       "<table border=\"1\" class=\"dataframe\">\n",
       "  <thead>\n",
       "    <tr style=\"text-align: right;\">\n",
       "      <th></th>\n",
       "      <th>Open</th>\n",
       "      <th>High</th>\n",
       "      <th>Low</th>\n",
       "      <th>Last</th>\n",
       "      <th>realOpen</th>\n",
       "      <th>realHigh</th>\n",
       "      <th>realLow</th>\n",
       "      <th>realLast</th>\n",
       "    </tr>\n",
       "    <tr>\n",
       "      <th>Date</th>\n",
       "      <th></th>\n",
       "      <th></th>\n",
       "      <th></th>\n",
       "      <th></th>\n",
       "      <th></th>\n",
       "      <th></th>\n",
       "      <th></th>\n",
       "      <th></th>\n",
       "    </tr>\n",
       "  </thead>\n",
       "  <tbody>\n",
       "    <tr>\n",
       "      <th>1974-12-31</th>\n",
       "      <td>191.0</td>\n",
       "      <td>191.5</td>\n",
       "      <td>182.7</td>\n",
       "      <td>183.9</td>\n",
       "      <td>192.472062</td>\n",
       "      <td>192.975915</td>\n",
       "      <td>184.108092</td>\n",
       "      <td>185.317341</td>\n",
       "    </tr>\n",
       "    <tr>\n",
       "      <th>1975-01-02</th>\n",
       "      <td>184.0</td>\n",
       "      <td>184.8</td>\n",
       "      <td>173.9</td>\n",
       "      <td>175.1</td>\n",
       "      <td>184.000000</td>\n",
       "      <td>184.800000</td>\n",
       "      <td>173.900000</td>\n",
       "      <td>175.100000</td>\n",
       "    </tr>\n",
       "    <tr>\n",
       "      <th>1975-01-03</th>\n",
       "      <td>173.0</td>\n",
       "      <td>175.5</td>\n",
       "      <td>170.5</td>\n",
       "      <td>174.7</td>\n",
       "      <td>173.000000</td>\n",
       "      <td>175.500000</td>\n",
       "      <td>170.500000</td>\n",
       "      <td>174.700000</td>\n",
       "    </tr>\n",
       "    <tr>\n",
       "      <th>1975-01-06</th>\n",
       "      <td>172.0</td>\n",
       "      <td>174.5</td>\n",
       "      <td>167.5</td>\n",
       "      <td>174.4</td>\n",
       "      <td>172.000000</td>\n",
       "      <td>174.500000</td>\n",
       "      <td>167.500000</td>\n",
       "      <td>174.400000</td>\n",
       "    </tr>\n",
       "    <tr>\n",
       "      <th>1975-01-07</th>\n",
       "      <td>171.0</td>\n",
       "      <td>174.0</td>\n",
       "      <td>168.5</td>\n",
       "      <td>173.4</td>\n",
       "      <td>171.000000</td>\n",
       "      <td>174.000000</td>\n",
       "      <td>168.500000</td>\n",
       "      <td>173.400000</td>\n",
       "    </tr>\n",
       "  </tbody>\n",
       "</table>\n",
       "</div>"
      ],
      "text/plain": [
       "             Open   High    Low   Last    realOpen    realHigh     realLow  \\\n",
       "Date                                                                         \n",
       "1974-12-31  191.0  191.5  182.7  183.9  192.472062  192.975915  184.108092   \n",
       "1975-01-02  184.0  184.8  173.9  175.1  184.000000  184.800000  173.900000   \n",
       "1975-01-03  173.0  175.5  170.5  174.7  173.000000  175.500000  170.500000   \n",
       "1975-01-06  172.0  174.5  167.5  174.4  172.000000  174.500000  167.500000   \n",
       "1975-01-07  171.0  174.0  168.5  173.4  171.000000  174.000000  168.500000   \n",
       "\n",
       "              realLast  \n",
       "Date                    \n",
       "1974-12-31  185.317341  \n",
       "1975-01-02  175.100000  \n",
       "1975-01-03  174.700000  \n",
       "1975-01-06  174.400000  \n",
       "1975-01-07  173.400000  "
      ]
     },
     "execution_count": 7,
     "metadata": {},
     "output_type": "execute_result"
    }
   ],
   "source": [
    "basketPriceIn1975 = 52.3\n",
    "\n",
    "#drop the columns from the gold data table\n",
    "goldData = goldData.drop(\"Change\", axis=1)\n",
    "goldData = goldData.drop(\"Settle\", axis=1)\n",
    "goldData = goldData.drop(\"Volume\", axis=1)\n",
    "goldData = goldData.drop(\"Previous Day Open Interest\", axis=1)\n",
    "\n",
    "#create lists to store real values for prices\n",
    "realOpen = []\n",
    "realHigh = []\n",
    "realLow = []\n",
    "realLast = []\n",
    "\n",
    "for index, row in goldData.iterrows():\n",
    "    #get current date and convert it to the first of the month to get inflation for current month\n",
    "    currentDate = index.to_pydatetime()\n",
    "    currentDate = currentDate.replace(day=1)\n",
    "    #Check if current datapoint isn't from december as we don't have inflation for december\n",
    "    if(currentDate != datetime.datetime(2020, 12, 1)):\n",
    "        #calculate and store inflation adjusted gold prices\n",
    "        currBasketPrice = inflationData.loc[inflationData['DATE'] == currentDate][\"CPIAUCSL\"].values.item(0)\n",
    "        realOpen.append(row[\"Open\"] * (basketPriceIn1975 / currBasketPrice))\n",
    "        realHigh.append(row[\"High\"] * (basketPriceIn1975 / currBasketPrice))\n",
    "        realLow.append(row[\"Low\"] * (basketPriceIn1975 / currBasketPrice))\n",
    "        realLast.append(row[\"Last\"] * (basketPriceIn1975 / currBasketPrice))\n",
    "    #Use november 2020 inflation data for december 2020\n",
    "    else:\n",
    "        basketPriceInNov2020 = 260.817\n",
    "        realOpen.append(row[\"Open\"] * (basketPriceIn1975 / basketPriceInNov2020))\n",
    "        realHigh.append(row[\"High\"] * (basketPriceIn1975 / basketPriceInNov2020))\n",
    "        realLow.append(row[\"Low\"] * (basketPriceIn1975 / basketPriceInNov2020))\n",
    "        realLast.append(row[\"Last\"] * (basketPriceIn1975 / basketPriceInNov2020))\n",
    "\n",
    "#Add calculated values to the dataframe\n",
    "goldData[\"realOpen\"] = realOpen\n",
    "goldData[\"realHigh\"] = realHigh\n",
    "goldData[\"realLow\"] = realLow\n",
    "goldData[\"realLast\"] = realLast\n",
    "    \n",
    "goldData.head()"
   ]
  },
  {
   "cell_type": "markdown",
   "metadata": {},
   "source": [
    "For the volatility data, we are not interested in the volume or adjusted close columns so we can drop them. We should also once again convert the date to datetime objects."
   ]
  },
  {
   "cell_type": "code",
   "execution_count": 8,
   "metadata": {},
   "outputs": [
    {
     "data": {
      "text/html": [
       "<div>\n",
       "<style scoped>\n",
       "    .dataframe tbody tr th:only-of-type {\n",
       "        vertical-align: middle;\n",
       "    }\n",
       "\n",
       "    .dataframe tbody tr th {\n",
       "        vertical-align: top;\n",
       "    }\n",
       "\n",
       "    .dataframe thead th {\n",
       "        text-align: right;\n",
       "    }\n",
       "</style>\n",
       "<table border=\"1\" class=\"dataframe\">\n",
       "  <thead>\n",
       "    <tr style=\"text-align: right;\">\n",
       "      <th></th>\n",
       "      <th>Date</th>\n",
       "      <th>Open</th>\n",
       "      <th>High</th>\n",
       "      <th>Low</th>\n",
       "      <th>Close</th>\n",
       "    </tr>\n",
       "  </thead>\n",
       "  <tbody>\n",
       "    <tr>\n",
       "      <th>0</th>\n",
       "      <td>1990-01-02 00:00:00</td>\n",
       "      <td>17.240000</td>\n",
       "      <td>17.240000</td>\n",
       "      <td>17.240000</td>\n",
       "      <td>17.240000</td>\n",
       "    </tr>\n",
       "    <tr>\n",
       "      <th>1</th>\n",
       "      <td>1990-01-03 00:00:00</td>\n",
       "      <td>18.190001</td>\n",
       "      <td>18.190001</td>\n",
       "      <td>18.190001</td>\n",
       "      <td>18.190001</td>\n",
       "    </tr>\n",
       "    <tr>\n",
       "      <th>2</th>\n",
       "      <td>1990-01-04 00:00:00</td>\n",
       "      <td>19.219999</td>\n",
       "      <td>19.219999</td>\n",
       "      <td>19.219999</td>\n",
       "      <td>19.219999</td>\n",
       "    </tr>\n",
       "    <tr>\n",
       "      <th>3</th>\n",
       "      <td>1990-01-05 00:00:00</td>\n",
       "      <td>20.110001</td>\n",
       "      <td>20.110001</td>\n",
       "      <td>20.110001</td>\n",
       "      <td>20.110001</td>\n",
       "    </tr>\n",
       "    <tr>\n",
       "      <th>4</th>\n",
       "      <td>1990-01-08 00:00:00</td>\n",
       "      <td>20.260000</td>\n",
       "      <td>20.260000</td>\n",
       "      <td>20.260000</td>\n",
       "      <td>20.260000</td>\n",
       "    </tr>\n",
       "  </tbody>\n",
       "</table>\n",
       "</div>"
      ],
      "text/plain": [
       "                  Date       Open       High        Low      Close\n",
       "0  1990-01-02 00:00:00  17.240000  17.240000  17.240000  17.240000\n",
       "1  1990-01-03 00:00:00  18.190001  18.190001  18.190001  18.190001\n",
       "2  1990-01-04 00:00:00  19.219999  19.219999  19.219999  19.219999\n",
       "3  1990-01-05 00:00:00  20.110001  20.110001  20.110001  20.110001\n",
       "4  1990-01-08 00:00:00  20.260000  20.260000  20.260000  20.260000"
      ]
     },
     "execution_count": 8,
     "metadata": {},
     "output_type": "execute_result"
    }
   ],
   "source": [
    "for index, row in volatilityData.iterrows():\n",
    "    #Convert date to datetime objects\n",
    "    volatilityData.at[index, \"Date\"] = datetime.datetime.strptime(row[\"Date\"], \"%Y-%m-%d\")\n",
    "\n",
    "#Drop the adjusted close and volume columns\n",
    "volatilityData = volatilityData.drop('Adj Close', axis=1)\n",
    "volatilityData = volatilityData.drop('Volume', axis=1)\n",
    "\n",
    "volatilityData.head()"
   ]
  },
  {
   "cell_type": "markdown",
   "metadata": {},
   "source": [
    "For the Treasury Yield data, we are not interested in the volume or adjusted close columns so we can drop them. We also are more interested in real yields instead of nominal yields so we should convert all the data to be inflation adjusted."
   ]
  },
  {
   "cell_type": "code",
   "execution_count": 9,
   "metadata": {},
   "outputs": [
    {
     "data": {
      "text/html": [
       "<div>\n",
       "<style scoped>\n",
       "    .dataframe tbody tr th:only-of-type {\n",
       "        vertical-align: middle;\n",
       "    }\n",
       "\n",
       "    .dataframe tbody tr th {\n",
       "        vertical-align: top;\n",
       "    }\n",
       "\n",
       "    .dataframe thead th {\n",
       "        text-align: right;\n",
       "    }\n",
       "</style>\n",
       "<table border=\"1\" class=\"dataframe\">\n",
       "  <thead>\n",
       "    <tr style=\"text-align: right;\">\n",
       "      <th></th>\n",
       "      <th>Date</th>\n",
       "      <th>Open</th>\n",
       "      <th>High</th>\n",
       "      <th>Low</th>\n",
       "      <th>Close</th>\n",
       "      <th>realOpen</th>\n",
       "      <th>realHigh</th>\n",
       "      <th>realLow</th>\n",
       "      <th>realClose</th>\n",
       "    </tr>\n",
       "  </thead>\n",
       "  <tbody>\n",
       "    <tr>\n",
       "      <th>0</th>\n",
       "      <td>1962-01-02 00:00:00</td>\n",
       "      <td>4.06</td>\n",
       "      <td>4.06</td>\n",
       "      <td>4.06</td>\n",
       "      <td>4.06</td>\n",
       "      <td>3.389759</td>\n",
       "      <td>3.389759</td>\n",
       "      <td>3.389759</td>\n",
       "      <td>3.389759</td>\n",
       "    </tr>\n",
       "    <tr>\n",
       "      <th>1</th>\n",
       "      <td>1962-01-03 00:00:00</td>\n",
       "      <td>4.03</td>\n",
       "      <td>4.03</td>\n",
       "      <td>4.03</td>\n",
       "      <td>4.03</td>\n",
       "      <td>3.359759</td>\n",
       "      <td>3.359759</td>\n",
       "      <td>3.359759</td>\n",
       "      <td>3.359759</td>\n",
       "    </tr>\n",
       "    <tr>\n",
       "      <th>2</th>\n",
       "      <td>1962-01-04 00:00:00</td>\n",
       "      <td>3.99</td>\n",
       "      <td>3.99</td>\n",
       "      <td>3.99</td>\n",
       "      <td>3.99</td>\n",
       "      <td>3.319759</td>\n",
       "      <td>3.319759</td>\n",
       "      <td>3.319759</td>\n",
       "      <td>3.319759</td>\n",
       "    </tr>\n",
       "    <tr>\n",
       "      <th>3</th>\n",
       "      <td>1962-01-05 00:00:00</td>\n",
       "      <td>4.02</td>\n",
       "      <td>4.02</td>\n",
       "      <td>4.02</td>\n",
       "      <td>4.02</td>\n",
       "      <td>3.349759</td>\n",
       "      <td>3.349759</td>\n",
       "      <td>3.349759</td>\n",
       "      <td>3.349759</td>\n",
       "    </tr>\n",
       "    <tr>\n",
       "      <th>4</th>\n",
       "      <td>1962-01-07 00:00:00</td>\n",
       "      <td>NaN</td>\n",
       "      <td>NaN</td>\n",
       "      <td>NaN</td>\n",
       "      <td>NaN</td>\n",
       "      <td>NaN</td>\n",
       "      <td>NaN</td>\n",
       "      <td>NaN</td>\n",
       "      <td>NaN</td>\n",
       "    </tr>\n",
       "  </tbody>\n",
       "</table>\n",
       "</div>"
      ],
      "text/plain": [
       "                  Date  Open  High   Low  Close  realOpen  realHigh   realLow  \\\n",
       "0  1962-01-02 00:00:00  4.06  4.06  4.06   4.06  3.389759  3.389759  3.389759   \n",
       "1  1962-01-03 00:00:00  4.03  4.03  4.03   4.03  3.359759  3.359759  3.359759   \n",
       "2  1962-01-04 00:00:00  3.99  3.99  3.99   3.99  3.319759  3.319759  3.319759   \n",
       "3  1962-01-05 00:00:00  4.02  4.02  4.02   4.02  3.349759  3.349759  3.349759   \n",
       "4  1962-01-07 00:00:00   NaN   NaN   NaN    NaN       NaN       NaN       NaN   \n",
       "\n",
       "   realClose  \n",
       "0   3.389759  \n",
       "1   3.359759  \n",
       "2   3.319759  \n",
       "3   3.349759  \n",
       "4        NaN  "
      ]
     },
     "execution_count": 9,
     "metadata": {},
     "output_type": "execute_result"
    }
   ],
   "source": [
    "#Drop the adjusted close and volume columns\n",
    "bondYieldData = bondYieldData.drop('Adj Close', axis=1)\n",
    "bondYieldData = bondYieldData.drop('Volume', axis=1)\n",
    "\n",
    "# create lists to store the yields after adjusted for inflation\n",
    "realOpen = []\n",
    "realHigh = []\n",
    "realLow = []\n",
    "realClose = []\n",
    "\n",
    "for index, row in bondYieldData.iterrows():\n",
    "    #Convert date to datetime\n",
    "    bondYieldData.at[index, \"Date\"] = datetime.datetime.strptime(row[\"Date\"], \"%Y-%m-%d\")\n",
    "    \n",
    "    #Find inflation for the current month\n",
    "    currentDate = bondYieldData.at[index, \"Date\"]\n",
    "    currentDate = currentDate.replace(day =1)\n",
    "    #If current month is december 2020, use 0 inflation as data is not available\n",
    "    if(currentDate != datetime.datetime(2020, 12, 1)):\n",
    "        currInflation = inflationData.loc[inflationData['DATE'] == currentDate].yearlyInflation.values.item(0)\n",
    "    else:\n",
    "        currInflation = 0\n",
    "    \n",
    "    #Adjust and store price data for open, high, low, and close columns\n",
    "    if(np.isnan(row[\"Open\"])):\n",
    "        realOpen.append(np.nan)\n",
    "    else:\n",
    "        realOpen.append(row[\"Open\"] - currInflation)\n",
    "    \n",
    "    if(np.isnan(row[\"High\"])):\n",
    "        realHigh.append(np.nan)\n",
    "    else:\n",
    "        realHigh.append(row[\"High\"] - currInflation)\n",
    "        \n",
    "    if(np.isnan(row[\"Low\"])):\n",
    "        realLow.append(np.nan)\n",
    "    else:\n",
    "        realLow.append(row[\"Low\"] - currInflation)\n",
    "        \n",
    "    if(np.isnan(row[\"Close\"])):\n",
    "        realClose.append(np.nan)\n",
    "    else:\n",
    "        realClose.append(row[\"Close\"] - currInflation)\n",
    "        \n",
    "#Add stored price data to dataframe\n",
    "bondYieldData[\"realOpen\"] = realOpen\n",
    "bondYieldData[\"realHigh\"] = realHigh\n",
    "bondYieldData[\"realLow\"] = realLow\n",
    "bondYieldData[\"realClose\"] = realClose\n",
    "\n",
    "bondYieldData.head()"
   ]
  },
  {
   "cell_type": "markdown",
   "metadata": {},
   "source": [
    "<h2><center>Exploratory Data Analysis</center></h2>"
   ]
  },
  {
   "cell_type": "markdown",
   "metadata": {},
   "source": [
    "Lets start by making a graph of gold prices over time."
   ]
  },
  {
   "cell_type": "code",
   "execution_count": 10,
   "metadata": {},
   "outputs": [
    {
     "data": {
      "image/png": "[encoded data removed]",
      "text/plain": [
       "<Figure size 432x288 with 1 Axes>"
      ]
     },
     "metadata": {
      "needs_background": "light"
     },
     "output_type": "display_data"
    }
   ],
   "source": [
    "#Create x and y value lists for x:year and y: gold price\n",
    "xVal = []\n",
    "yVal = []\n",
    "for index, row in goldData.iterrows():\n",
    "    xVal.append(index)\n",
    "    yVal.append(row[\"Open\"])\n",
    "#Plot x and y points\n",
    "plt.plot(xVal, yVal, label=\"Opening Price of Gold\", color=np.random.rand(3,))\n",
    "plt.xlabel('Time')\n",
    "plt.ylabel('Gold Price in Dollars')\n",
    "plt.legend()\n",
    "plt.show()"
   ]
  },
  {
   "cell_type": "markdown",
   "metadata": {},
   "source": [
    "Based on the chart for the nominal gold prices we see there are three main bull markets for gold, first in the early 1980s, second after the dotcom crash in 2000 to 2013, and third from about 2018 to now. It seems that the post dotcom crash bull market for gold was strongest. However before making a judgement, lets make this graph again but using inflation adjusted prices.  "
   ]
  },
  {
   "cell_type": "code",
   "execution_count": 11,
   "metadata": {},
   "outputs": [
    {
     "data": {
      "image/png": "[encoded data removed]",
      "text/plain": [
       "<Figure size 432x288 with 1 Axes>"
      ]
     },
     "metadata": {
      "needs_background": "light"
     },
     "output_type": "display_data"
    }
   ],
   "source": [
    "#Create x and y value lists for x: year and y: real gold price\n",
    "xVal = []\n",
    "yVal = []\n",
    "for index, row in goldData.iterrows():\n",
    "    xVal.append(index)\n",
    "    yVal.append(row[\"realOpen\"].item(0))\n",
    "    \n",
    "#Plot x and y points\n",
    "plt.plot(xVal, yVal, label=\"Opening Price of Gold\", color=np.random.rand(3,))\n",
    "plt.xlabel('Time')\n",
    "plt.ylabel('Gold Price in Dollars Inflation Adjusted')\n",
    "plt.legend()\n",
    "plt.show()"
   ]
  },
  {
   "cell_type": "markdown",
   "metadata": {},
   "source": [
    "Looking at the real gold prices after adjusting for inflation we see a different picture. The true bull market for gold was in the 1980s. The peak price that gold hit back then has never ever been hit again. However, the speed at which there is an increase in gold prices in 1980 seems to look like that of a bubble where prices began to up vertically and then crashed back vertically as well. \n",
    "\n",
    "Lets create similar charts for inflation, VIX, and bond yields as well to see how their values have changed over time"
   ]
  },
  {
   "cell_type": "code",
   "execution_count": 12,
   "metadata": {},
   "outputs": [
    {
     "data": {
      "image/png": "[encoded data removed]",
      "text/plain": [
       "<Figure size 432x288 with 1 Axes>"
      ]
     },
     "metadata": {
      "needs_background": "light"
     },
     "output_type": "display_data"
    }
   ],
   "source": [
    "#Create x and y value lists for x: year and y: yearly inflation\n",
    "xVal = []\n",
    "yVal = []\n",
    "for index, row in inflationData.iterrows():\n",
    "    xVal.append(row[\"DATE\"])\n",
    "    yVal.append(row[\"yearlyInflation\"])\n",
    "\n",
    "#Plot x and y points\n",
    "plt.plot(xVal, yVal, label=\"Inflation\", color=np.random.rand(3,))\n",
    "plt.xlabel('Time')\n",
    "plt.ylabel('Yearly Inflation in Percent')\n",
    "plt.legend()\n",
    "plt.show()"
   ]
  },
  {
   "cell_type": "markdown",
   "metadata": {},
   "source": [
    "This chart for inflation shows that inflation was very high back in the 1980s, however, there has been a steady decline since then."
   ]
  },
  {
   "cell_type": "code",
   "execution_count": 13,
   "metadata": {},
   "outputs": [
    {
     "data": {
      "image/png": "[encoded data removed]",
      "text/plain": [
       "<Figure size 432x288 with 1 Axes>"
      ]
     },
     "metadata": {
      "needs_background": "light"
     },
     "output_type": "display_data"
    }
   ],
   "source": [
    "#Create x and y value lists for x: year and y: volatility\n",
    "xVal = []\n",
    "yVal = []\n",
    "for index, row in volatilityData.iterrows():\n",
    "    xVal.append(row[\"Date\"])\n",
    "    yVal.append(row[\"Open\"])\n",
    "\n",
    "#Plot x and y points\n",
    "plt.plot(xVal, yVal, label=\"Volatility\", color=np.random.rand(3,))\n",
    "plt.xlabel('Time')\n",
    "plt.ylabel('Volatility of S&P 500 Stocks')\n",
    "plt.legend()\n",
    "plt.show()"
   ]
  },
  {
   "cell_type": "markdown",
   "metadata": {},
   "source": [
    "This chart shows that volatility has been low since 1990 except for the two major peaks in 2009 and 2020 when the entire stock market crashed."
   ]
  },
  {
   "cell_type": "code",
   "execution_count": 14,
   "metadata": {},
   "outputs": [
    {
     "data": {
      "image/png": "[encoded data removed]",
      "text/plain": [
       "<Figure size 432x288 with 1 Axes>"
      ]
     },
     "metadata": {
      "needs_background": "light"
     },
     "output_type": "display_data"
    }
   ],
   "source": [
    "#Create x and y value lists for x: year and y: bond yield\n",
    "xVal = []\n",
    "yVal = []\n",
    "for index, row in bondYieldData.iterrows():\n",
    "    if(not(pd.isnull(row['realOpen']) or np.isnan(row['realOpen']))):\n",
    "        xVal.append(row[\"Date\"])\n",
    "        yVal.append(row[\"realOpen\"])\n",
    "    \n",
    "#Plot x and y points\n",
    "plt.plot(xVal, yVal, label=\"Real Bond Yields\", color=np.random.rand(3,))\n",
    "plt.xlabel('Time')\n",
    "plt.ylabel('Real Yields on 10 Year Treasury Bond')\n",
    "plt.legend()\n",
    "plt.show()"
   ]
  },
  {
   "cell_type": "markdown",
   "metadata": {},
   "source": [
    "This chart shows almost an inverse of the inflation chart early on till the late 1980s. However, after the 1980s, inflation and real bond yields seem to both trend downward together. "
   ]
  },
  {
   "cell_type": "markdown",
   "metadata": {},
   "source": [
    "<h2><center>Linear Regressions for Gold vs Inflation, Bond Yield, and Volatility</center></h2>"
   ]
  },
  {
   "cell_type": "markdown",
   "metadata": {},
   "source": [
    "Lets start with inflation first as historically, gold has been most accepted to be an inflation hedge."
   ]
  },
  {
   "cell_type": "code",
   "execution_count": 15,
   "metadata": {},
   "outputs": [
    {
     "data": {
      "image/png": "[encoded data removed]",
      "text/plain": [
       "<Figure size 432x288 with 1 Axes>"
      ]
     },
     "metadata": {
      "needs_background": "light"
     },
     "output_type": "display_data"
    },
    {
     "name": "stdout",
     "output_type": "stream",
     "text": [
      "Coefficients: [[2.42044718]]\n",
      "Coefficient of determination: 0.006616033268464605\n"
     ]
    }
   ],
   "source": [
    "#Create lists to store x and y points where x: yearly inflation and y: gold price\n",
    "inflationX = []\n",
    "goldPriceY = []\n",
    "\n",
    "for index, row in inflationData.iterrows():\n",
    "    #if the year is before 1975 we don't have data so continue\n",
    "    if(row[\"DATE\"] < datetime.datetime(1975,1,1)):\n",
    "        continue\n",
    "    #Get the closest possible date for when the market was open and gold was trading\n",
    "    currentDate = row[\"DATE\"]\n",
    "    currentDateTimeStamp = pd.Timestamp(currentDate)\n",
    "    counter = 2\n",
    "    while(not currentDateTimeStamp in goldData.index.values):\n",
    "        currentDate = row[\"DATE\"]\n",
    "        currentDate = currentDate.replace(day = counter)\n",
    "        currentDateTimeStamp = pd.Timestamp(currentDate)\n",
    "        counter = counter + 1\n",
    "    # Add inflation and gold price to the lists\n",
    "    inflationX.append(row[\"yearlyInflation\"])\n",
    "    goldPriceY.append(goldData.at[currentDateTimeStamp, \"realOpen\"])\n",
    "\n",
    "#Plot the points in a scatter plot\n",
    "plt.scatter(inflationX, goldPriceY)\n",
    "plt.xlabel('Inflation in Percent')\n",
    "plt.ylabel('Gold Price')\n",
    "\n",
    "#Create a linear regression model\n",
    "inflationReg = linear_model.LinearRegression()\n",
    "inflationRegfit = inflationReg.fit([[x] for x in inflationX], [[y] for y in goldPriceY])\n",
    "\n",
    "#Plot the line of best fit from the linear regression model\n",
    "plt.plot(inflationX, [y for [y] in inflationRegfit.predict([[x] for x in inflationX])], color='red')\n",
    "plt.show()\n",
    "\n",
    "# Print out the coefficients and R^2 values\n",
    "print('Coefficients:', inflationRegfit.coef_)\n",
    "print('Coefficient of determination:', inflationRegfit.score([[x] for x in inflationX], [[y] for y in goldPriceY]))"
   ]
  },
  {
   "cell_type": "markdown",
   "metadata": {},
   "source": [
    "At first glance the chart looks like that there is no correlation between inflation and gold prices. However, when inflation goes above 10% then there is a clear increase in gold prices. So there might be a slight positive relationship between gold prices and inflation. This seems to be matched up with the coefficient of 2.4 which shows a positive relationship, while the low R^2 of 0.006 shows that this correlation between inflation and gold prices is very weak."
   ]
  },
  {
   "cell_type": "markdown",
   "metadata": {},
   "source": [
    "Then lets take a look at bond yields and their relationship with gold prices."
   ]
  },
  {
   "cell_type": "code",
   "execution_count": 16,
   "metadata": {},
   "outputs": [
    {
     "data": {
      "image/png": "[encoded data removed]",
      "text/plain": [
       "<Figure size 432x288 with 1 Axes>"
      ]
     },
     "metadata": {
      "needs_background": "light"
     },
     "output_type": "display_data"
    },
    {
     "name": "stdout",
     "output_type": "stream",
     "text": [
      "Coefficients: [[-14.09074536]]\n",
      "Coefficient of determination: 0.16555640291647256\n"
     ]
    }
   ],
   "source": [
    "#Create lists to store x and y points where x: bond yield and y: gold price\n",
    "yieldX = []\n",
    "goldPriceY = []\n",
    "\n",
    "for index, row in bondYieldData.iterrows():\n",
    "    #if the year is before 1975 we don't have data so continue\n",
    "    if(row[\"Date\"] < datetime.datetime(1975,1,1)):\n",
    "        continue\n",
    "    #if bonds didn't trade that day then continue\n",
    "    if(pd.isnull(row['realOpen']) or np.isnan(row['realOpen'])):\n",
    "        continue\n",
    "    #Get the closest possible date for when the market was open and gold was trading\n",
    "    currentDate = row[\"Date\"]\n",
    "    currentDateTimeStamp = pd.Timestamp(currentDate)\n",
    "    counter = 2\n",
    "    while(not currentDateTimeStamp in goldData.index.values):\n",
    "        currentDate = row[\"Date\"]\n",
    "        currentDate = currentDate.replace(day = counter)\n",
    "        currentDateTimeStamp = pd.Timestamp(currentDate)\n",
    "        counter = counter + 1\n",
    "    #If gold futures contract data wasn't available that day continue\n",
    "    if(np.isnan(goldData.at[currentDateTimeStamp, \"realOpen\"])):\n",
    "        continue\n",
    "    # Add bond yields and gold price to the lists\n",
    "    yieldX.append(row[\"realOpen\"])\n",
    "    goldPriceY.append(goldData.at[currentDateTimeStamp, \"realOpen\"])\n",
    "\n",
    "#Plot the points in a scatter plot\n",
    "plt.scatter(yieldX, goldPriceY)\n",
    "plt.xlabel('Bond Yield in Percent')\n",
    "plt.ylabel('Gold Price')\n",
    "    \n",
    "#Create a linear regression model\n",
    "bondYieldReg = linear_model.LinearRegression()\n",
    "bondYieldRegfit = bondYieldReg.fit([[x] for x in yieldX], [[y] for y in goldPriceY])\n",
    "\n",
    "#Plot the line of best fit from the linear regression model\n",
    "plt.plot(yieldX, [y for [y] in bondYieldRegfit.predict([[x] for x in yieldX])], color='red')\n",
    "plt.show()\n",
    "\n",
    "# Print out the coefficients and R^2 values\n",
    "print('Coefficients:', bondYieldRegfit.coef_)\n",
    "print('Coefficient of determination:', bondYieldRegfit.score([[x] for x in yieldX], [[y] for y in goldPriceY]))"
   ]
  },
  {
   "cell_type": "markdown",
   "metadata": {},
   "source": [
    "This chart seems to have a much stronger relationship than the one we previously looked at. There is a clear negative relationship between real bond yields and gold prices. As the real bond yield increases then the price of gold decreases. This is backed up once again by the coefficient of -14.09 and the R^2 value of 0.165 which is low but could be due to the possibility that a different curve would better fit the data instead of a line. "
   ]
  },
  {
   "cell_type": "markdown",
   "metadata": {},
   "source": [
    "Finally lets look at Volatility"
   ]
  },
  {
   "cell_type": "code",
   "execution_count": 17,
   "metadata": {},
   "outputs": [
    {
     "data": {
      "image/png": "[encoded data removed]",
      "text/plain": [
       "<Figure size 432x288 with 1 Axes>"
      ]
     },
     "metadata": {
      "needs_background": "light"
     },
     "output_type": "display_data"
    },
    {
     "name": "stdout",
     "output_type": "stream",
     "text": [
      "Coefficients: [[-0.24680861]]\n",
      "Coefficient of determination: 0.0004685307746546963\n"
     ]
    }
   ],
   "source": [
    "#Create lists to store x and y points where x: volatility and y: gold price\n",
    "volatilityX = []\n",
    "goldPriceY = []\n",
    "\n",
    "for index, row in volatilityData.iterrows():\n",
    "    #Get the closest possible date for when the market was open and gold was trading\n",
    "    currentDate = row[\"Date\"]\n",
    "    currentDateTimeStamp = pd.Timestamp(currentDate)\n",
    "    counter = 2\n",
    "    while(not currentDateTimeStamp in goldData.index.values):\n",
    "        currentDate = row[\"Date\"]\n",
    "        currentDate = currentDate.replace(day = counter)\n",
    "        currentDateTimeStamp = pd.Timestamp(currentDate)\n",
    "        counter = counter + 1\n",
    "    #If gold futures contract data wasn't available that day continue    \n",
    "    if(np.isnan(goldData.at[currentDateTimeStamp, \"realOpen\"])):\n",
    "        continue\n",
    "    # Add volatility and gold price to the list\n",
    "    volatilityX.append(row[\"Open\"])\n",
    "    goldPriceY.append(goldData.at[currentDateTimeStamp, \"realOpen\"])\n",
    "    \n",
    "#Plot the points in a scatter plot    \n",
    "plt.scatter(volatilityX, goldPriceY)\n",
    "plt.xlabel('Volatility')\n",
    "plt.ylabel('Gold Price')\n",
    "\n",
    "#Create a linear regression model\n",
    "volatilityReg = linear_model.LinearRegression()\n",
    "volatilityRegfit = volatilityReg.fit([[x] for x in volatilityX], [[y] for y in goldPriceY])\n",
    "\n",
    "#Plot the line of best fit from the linear regression model\n",
    "plt.plot(volatilityX, [y for [y] in volatilityRegfit.predict([[x] for x in volatilityX])], color='red')\n",
    "plt.show()\n",
    "\n",
    "# Print out the coefficients and R^2 values\n",
    "print('Coefficients:', volatilityRegfit.coef_)\n",
    "print('Coefficient of determination:', volatilityRegfit.score([[x] for x in volatilityX], [[y] for y in goldPriceY]))"
   ]
  },
  {
   "cell_type": "markdown",
   "metadata": {},
   "source": [
    "This chart shows the worst relationship, there is no visible correlation here whatsoever between gold prices and volatility. This is completely at odds with what we saw before with the spikes in volatility in 2009 and 2020 coinciding with the increases in gold prices. This is also seen in the R^2 value which is almost zero at 0.00047. "
   ]
  },
  {
   "cell_type": "markdown",
   "metadata": {},
   "source": [
    "<h2><center>Conclusion</center></h2>"
   ]
  },
  {
   "cell_type": "markdown",
   "metadata": {},
   "source": [
    "Based on the linear regressions done, it seems that Gold Prices have a weak relationship with treasury bond yields and no relationship to inflation and volatility. This is highly surprising as for a long-time people have believe in inflation being the main driving factor behind gold prices, yet the data shows that this is clearly not true. \n",
    "\n",
    "It might also be valuable to try to look at specific time periods and see the effects that each of these had on gold prices. Like specifically, the 1980s seemed to have very high inflation which is when gold prices were at their highest. It might very well be possible that the extremely high inflation of the time may have led to such high gold prices for that specific era. "
   ]
  },
  {
   "cell_type": "markdown",
   "metadata": {},
   "source": [
    "<h2><center>Additional Resources</center></h2>"
   ]
  },
  {
   "cell_type": "markdown",
   "metadata": {},
   "source": [
    "To read more about the VIX: https://www.investopedia.com/terms/v/vix.asp <br>\n",
    "To read more about Futures Contracts: https://www.investopedia.com/terms/f/futurescontract.asp <br>\n",
    "To read more about Treasury Bonds: https://www.investopedia.com/terms/t/treasurybond.asp <br>\n",
    "To read more about Consumer Price Index: https://www.investopedia.com/terms/c/consumerpriceindex.asp"
   ]
  }
 ],
 "metadata": {
  "kernelspec": {
   "display_name": "Python 3",
   "language": "python",
   "name": "python3"
  },
  "language_info": {
   "codemirror_mode": {
    "name": "ipython",
    "version": 3
   },
   "file_extension": ".py",
   "mimetype": "text/x-python",
   "name": "python",
   "nbconvert_exporter": "python",
   "pygments_lexer": "ipython3",
   "version": "3.8.6"
  }
 },
 "nbformat": 4,
 "nbformat_minor": 4
}
